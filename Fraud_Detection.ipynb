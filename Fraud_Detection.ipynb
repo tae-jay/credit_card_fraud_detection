{
 "cells": [
  {
   "cell_type": "code",
   "execution_count": 3,
   "metadata": {},
   "outputs": [],
   "source": [
    "import numpy as np\n",
    "import sklearn as sk\n",
    "import pandas as pd\n",
    "import matplotlib.pyplot as plt\n",
    "from sklearn.preprocessing import scale\n",
    "import random"
   ]
  },
  {
   "cell_type": "code",
   "execution_count": 4,
   "metadata": {},
   "outputs": [
    {
     "name": "stdout",
     "output_type": "stream",
     "text": [
      "284807\n"
     ]
    },
    {
     "data": {
      "text/html": [
       "<div>\n",
       "<style scoped>\n",
       "    .dataframe tbody tr th:only-of-type {\n",
       "        vertical-align: middle;\n",
       "    }\n",
       "\n",
       "    .dataframe tbody tr th {\n",
       "        vertical-align: top;\n",
       "    }\n",
       "\n",
       "    .dataframe thead th {\n",
       "        text-align: right;\n",
       "    }\n",
       "</style>\n",
       "<table border=\"1\" class=\"dataframe\">\n",
       "  <thead>\n",
       "    <tr style=\"text-align: right;\">\n",
       "      <th></th>\n",
       "      <th>Time</th>\n",
       "      <th>V1</th>\n",
       "      <th>V2</th>\n",
       "      <th>V3</th>\n",
       "      <th>V4</th>\n",
       "      <th>V5</th>\n",
       "      <th>V6</th>\n",
       "      <th>V7</th>\n",
       "      <th>V8</th>\n",
       "      <th>V9</th>\n",
       "      <th>...</th>\n",
       "      <th>V21</th>\n",
       "      <th>V22</th>\n",
       "      <th>V23</th>\n",
       "      <th>V24</th>\n",
       "      <th>V25</th>\n",
       "      <th>V26</th>\n",
       "      <th>V27</th>\n",
       "      <th>V28</th>\n",
       "      <th>Amount</th>\n",
       "      <th>Class</th>\n",
       "    </tr>\n",
       "  </thead>\n",
       "  <tbody>\n",
       "    <tr>\n",
       "      <th>0</th>\n",
       "      <td>165576.0</td>\n",
       "      <td>2.063057</td>\n",
       "      <td>-0.333399</td>\n",
       "      <td>-0.738544</td>\n",
       "      <td>0.095454</td>\n",
       "      <td>-0.231086</td>\n",
       "      <td>-0.175587</td>\n",
       "      <td>-0.524818</td>\n",
       "      <td>0.025746</td>\n",
       "      <td>1.497511</td>\n",
       "      <td>...</td>\n",
       "      <td>-0.189457</td>\n",
       "      <td>-0.425022</td>\n",
       "      <td>0.239009</td>\n",
       "      <td>-1.140971</td>\n",
       "      <td>-0.265121</td>\n",
       "      <td>-0.853714</td>\n",
       "      <td>0.056825</td>\n",
       "      <td>-0.039556</td>\n",
       "      <td>1.00</td>\n",
       "      <td>0</td>\n",
       "    </tr>\n",
       "    <tr>\n",
       "      <th>1</th>\n",
       "      <td>42010.0</td>\n",
       "      <td>1.101072</td>\n",
       "      <td>0.099279</td>\n",
       "      <td>0.507688</td>\n",
       "      <td>1.495400</td>\n",
       "      <td>-0.394915</td>\n",
       "      <td>-0.384315</td>\n",
       "      <td>0.055510</td>\n",
       "      <td>-0.002878</td>\n",
       "      <td>0.373768</td>\n",
       "      <td>...</td>\n",
       "      <td>-0.075846</td>\n",
       "      <td>-0.064223</td>\n",
       "      <td>-0.031957</td>\n",
       "      <td>0.389901</td>\n",
       "      <td>0.587655</td>\n",
       "      <td>-0.332264</td>\n",
       "      <td>0.031848</td>\n",
       "      <td>0.021303</td>\n",
       "      <td>29.09</td>\n",
       "      <td>0</td>\n",
       "    </tr>\n",
       "    <tr>\n",
       "      <th>2</th>\n",
       "      <td>58889.0</td>\n",
       "      <td>-2.464232</td>\n",
       "      <td>-0.626193</td>\n",
       "      <td>2.400165</td>\n",
       "      <td>0.664460</td>\n",
       "      <td>0.247321</td>\n",
       "      <td>-1.231264</td>\n",
       "      <td>-0.380931</td>\n",
       "      <td>0.277355</td>\n",
       "      <td>-0.109078</td>\n",
       "      <td>...</td>\n",
       "      <td>0.220193</td>\n",
       "      <td>0.324511</td>\n",
       "      <td>-0.501912</td>\n",
       "      <td>0.748473</td>\n",
       "      <td>0.243815</td>\n",
       "      <td>-0.517373</td>\n",
       "      <td>-0.234845</td>\n",
       "      <td>-0.387818</td>\n",
       "      <td>45.00</td>\n",
       "      <td>0</td>\n",
       "    </tr>\n",
       "    <tr>\n",
       "      <th>3</th>\n",
       "      <td>162112.0</td>\n",
       "      <td>1.761586</td>\n",
       "      <td>-0.269314</td>\n",
       "      <td>-1.462641</td>\n",
       "      <td>1.725962</td>\n",
       "      <td>0.271386</td>\n",
       "      <td>0.073185</td>\n",
       "      <td>-0.001993</td>\n",
       "      <td>-0.085478</td>\n",
       "      <td>1.029714</td>\n",
       "      <td>...</td>\n",
       "      <td>0.236491</td>\n",
       "      <td>0.920613</td>\n",
       "      <td>-0.243447</td>\n",
       "      <td>0.457338</td>\n",
       "      <td>0.524506</td>\n",
       "      <td>-0.278253</td>\n",
       "      <td>0.040037</td>\n",
       "      <td>0.002973</td>\n",
       "      <td>120.98</td>\n",
       "      <td>0</td>\n",
       "    </tr>\n",
       "    <tr>\n",
       "      <th>4</th>\n",
       "      <td>119223.0</td>\n",
       "      <td>2.067612</td>\n",
       "      <td>0.186982</td>\n",
       "      <td>-1.652488</td>\n",
       "      <td>0.438475</td>\n",
       "      <td>0.397454</td>\n",
       "      <td>-0.931461</td>\n",
       "      <td>0.212815</td>\n",
       "      <td>-0.263964</td>\n",
       "      <td>0.431681</td>\n",
       "      <td>...</td>\n",
       "      <td>-0.353523</td>\n",
       "      <td>-0.895925</td>\n",
       "      <td>0.347972</td>\n",
       "      <td>0.648645</td>\n",
       "      <td>-0.259597</td>\n",
       "      <td>0.164020</td>\n",
       "      <td>-0.060219</td>\n",
       "      <td>-0.028586</td>\n",
       "      <td>1.98</td>\n",
       "      <td>0</td>\n",
       "    </tr>\n",
       "  </tbody>\n",
       "</table>\n",
       "<p>5 rows × 31 columns</p>\n",
       "</div>"
      ],
      "text/plain": [
       "       Time        V1        V2        V3        V4        V5        V6  \\\n",
       "0  165576.0  2.063057 -0.333399 -0.738544  0.095454 -0.231086 -0.175587   \n",
       "1   42010.0  1.101072  0.099279  0.507688  1.495400 -0.394915 -0.384315   \n",
       "2   58889.0 -2.464232 -0.626193  2.400165  0.664460  0.247321 -1.231264   \n",
       "3  162112.0  1.761586 -0.269314 -1.462641  1.725962  0.271386  0.073185   \n",
       "4  119223.0  2.067612  0.186982 -1.652488  0.438475  0.397454 -0.931461   \n",
       "\n",
       "         V7        V8        V9  ...         V21       V22       V23  \\\n",
       "0 -0.524818  0.025746  1.497511  ...   -0.189457 -0.425022  0.239009   \n",
       "1  0.055510 -0.002878  0.373768  ...   -0.075846 -0.064223 -0.031957   \n",
       "2 -0.380931  0.277355 -0.109078  ...    0.220193  0.324511 -0.501912   \n",
       "3 -0.001993 -0.085478  1.029714  ...    0.236491  0.920613 -0.243447   \n",
       "4  0.212815 -0.263964  0.431681  ...   -0.353523 -0.895925  0.347972   \n",
       "\n",
       "        V24       V25       V26       V27       V28  Amount  Class  \n",
       "0 -1.140971 -0.265121 -0.853714  0.056825 -0.039556    1.00      0  \n",
       "1  0.389901  0.587655 -0.332264  0.031848  0.021303   29.09      0  \n",
       "2  0.748473  0.243815 -0.517373 -0.234845 -0.387818   45.00      0  \n",
       "3  0.457338  0.524506 -0.278253  0.040037  0.002973  120.98      0  \n",
       "4  0.648645 -0.259597  0.164020 -0.060219 -0.028586    1.98      0  \n",
       "\n",
       "[5 rows x 31 columns]"
      ]
     },
     "execution_count": 4,
     "metadata": {},
     "output_type": "execute_result"
    }
   ],
   "source": [
    "\n",
    "df = pd.read_csv('C:\\\\Users\\\\hp\\\\Downloads\\\\creditcardfraud\\\\creditcard.csv',low_memory=False)\n",
    "df=df.sample(frac=1).reset_index(drop=True)\n",
    "df.head()\n",
    "print(len(df))\n",
    "df.head(5)"
   ]
  },
  {
   "cell_type": "code",
   "execution_count": 5,
   "metadata": {},
   "outputs": [
    {
     "name": "stdout",
     "output_type": "stream",
     "text": [
      "492\n",
      "284315\n"
     ]
    }
   ],
   "source": [
    "fraud=df.loc[df['Class']==1]\n",
    "non_fraud=df.loc[df['Class']==0] \n",
    "\n",
    "print(len(fraud))\n",
    "print(len(non_fraud))"
   ]
  },
  {
   "cell_type": "code",
   "execution_count": 6,
   "metadata": {},
   "outputs": [
    {
     "data": {
      "image/png": "[encoded data removed]",
      "text/plain": [
       "<Figure size 432x288 with 1 Axes>"
      ]
     },
     "metadata": {},
     "output_type": "display_data"
    }
   ],
   "source": [
    "ax=fraud.plot.scatter(x='Amount',y='Class',color='red',label='Fraud')\n",
    "non_fraud.plot.scatter(x='Amount',y='Class',color='green',label='Not_Fraud',ax=ax)\n",
    "plt.show()\n"
   ]
  },
  {
   "cell_type": "code",
   "execution_count": 29,
   "metadata": {},
   "outputs": [
    {
     "data": {
      "text/plain": [
       "<matplotlib.axes._subplots.AxesSubplot at 0x1784292be0>"
      ]
     },
     "execution_count": 29,
     "metadata": {},
     "output_type": "execute_result"
    },
    {
     "data": {
      "image/png": "[encoded data removed]",
      "text/plain": [
       "<Figure size 432x288 with 1 Axes>"
      ]
     },
     "metadata": {},
     "output_type": "display_data"
    }
   ],
   "source": [
    "import seaborn as sns\n",
    "sns.countplot(x=\"Class\", data=df)"
   ]
  },
  {
   "cell_type": "code",
   "execution_count": 16,
   "metadata": {},
   "outputs": [
    {
     "data": {
      "image/png": "[encoded data removed]",
      "text/plain": [
       "<Figure size 432x288 with 1 Axes>"
      ]
     },
     "metadata": {},
     "output_type": "display_data"
    }
   ],
   "source": [
    "labels=['Fraud','Non_Fraud']\n",
    "sizes=[492,284315]\n",
    "colors=['green','orange']\n",
    "plt.pie(sizes,  labels=labels, colors=colors,\n",
    "autopct='%1.1f%%', shadow=True, startangle=140)\n",
    "plt.show()"
   ]
  },
  {
   "cell_type": "code",
   "execution_count": 17,
   "metadata": {},
   "outputs": [],
   "source": [
    "#Machine Learning Part\n",
    "from sklearn.model_selection import train_test_split\n",
    "from sklearn.linear_model import LogisticRegression"
   ]
  },
  {
   "cell_type": "code",
   "execution_count": 25,
   "metadata": {},
   "outputs": [],
   "source": [
    "x=df.iloc[:,:-1]#accept the class column\n",
    "y=df['Class']\n",
    "X_train,X_test,Y_train,Y_test=train_test_split(x,y,test_size=0.35)\n"
   ]
  },
  {
   "cell_type": "code",
   "execution_count": 31,
   "metadata": {},
   "outputs": [
    {
     "name": "stdout",
     "output_type": "stream",
     "text": [
      "Score: 0.99818424405365\n"
     ]
    },
    {
     "name": "stderr",
     "output_type": "stream",
     "text": [
      "C:\\Users\\hp\\Anaconda3\\lib\\site-packages\\sklearn\\linear_model\\sag.py:326: ConvergenceWarning: The max_iter was reached which means the coef_ did not converge\n",
      "  \"the coef_ did not converge\", ConvergenceWarning)\n"
     ]
    }
   ],
   "source": [
    "model=LogisticRegression(C=1e5,penalty='l2',solver='saga',multi_class='multinomial')\n",
    "                         #10000 #C parameter disincentifies and regulates overfitting\n",
    "\n",
    "model.fit(X_train,Y_train)\n",
    "print(\"Score:\",model.score(X_test,Y_test))"
   ]
  }
 ],
 "metadata": {
  "kernelspec": {
   "display_name": "Python 3",
   "language": "python",
   "name": "python3"
  },
  "language_info": {
   "codemirror_mode": {
    "name": "ipython",
    "version": 3
   },
   "file_extension": ".py",
   "mimetype": "text/x-python",
   "name": "python",
   "nbconvert_exporter": "python",
   "pygments_lexer": "ipython3",
   "version": "3.6.5"
  }
 },
 "nbformat": 4,
 "nbformat_minor": 2
}
